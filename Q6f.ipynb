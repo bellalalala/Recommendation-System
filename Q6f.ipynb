{
 "cells": [
  {
   "cell_type": "code",
   "execution_count": 1,
   "metadata": {},
   "outputs": [],
   "source": [
    "import pandas as pd\n",
    "import numpy as np"
   ]
  },
  {
   "cell_type": "code",
   "execution_count": 10,
   "metadata": {},
   "outputs": [],
   "source": [
    "r = np.array([[1,0,1],[1,0,0],[1,1,1],[0,0,1]])"
   ]
  },
  {
   "cell_type": "code",
   "execution_count": 12,
   "metadata": {},
   "outputs": [],
   "source": [
    "t  = np.matmul(r, r.transpose())"
   ]
  },
  {
   "cell_type": "code",
   "execution_count": 25,
   "metadata": {},
   "outputs": [],
   "source": [
    "with open('./data/user-shows.txt', \"r\") as infile:\n",
    "        rdata  = infile.read()"
   ]
  },
  {
   "cell_type": "code",
   "execution_count": 148,
   "metadata": {},
   "outputs": [],
   "source": [
    "with open('./data/shows.txt', \"r\") as infile:\n",
    "        name  = infile.read()"
   ]
  },
  {
   "cell_type": "code",
   "execution_count": 150,
   "metadata": {},
   "outputs": [],
   "source": [
    "name = name.split(\"\\n\")"
   ]
  },
  {
   "cell_type": "code",
   "execution_count": 167,
   "metadata": {},
   "outputs": [],
   "source": [
    "with open('./data/alex.txt', \"r\") as infile:\n",
    "        alex  = infile.read().split(' ')"
   ]
  },
  {
   "cell_type": "code",
   "execution_count": 39,
   "metadata": {
    "collapsed": true
   },
   "outputs": [
    {
     "ename": "AttributeError",
     "evalue": "'list' object has no attribute 'split'",
     "output_type": "error",
     "traceback": [
      "\u001b[1;31m---------------------------------------------------------------------------\u001b[0m",
      "\u001b[1;31mAttributeError\u001b[0m                            Traceback (most recent call last)",
      "\u001b[1;32m<ipython-input-39-a4b61869cfd1>\u001b[0m in \u001b[0;36m<module>\u001b[1;34m\u001b[0m\n\u001b[1;32m----> 1\u001b[1;33m \u001b[0mrdata\u001b[0m \u001b[1;33m=\u001b[0m \u001b[0mrdata\u001b[0m\u001b[1;33m.\u001b[0m\u001b[0msplit\u001b[0m\u001b[1;33m(\u001b[0m\u001b[1;34m\"\\n\"\u001b[0m\u001b[1;33m)\u001b[0m\u001b[1;33m\u001b[0m\u001b[1;33m\u001b[0m\u001b[0m\n\u001b[0m\u001b[0;32m      2\u001b[0m \u001b[0mrdata_l\u001b[0m \u001b[1;33m=\u001b[0m \u001b[0mlist\u001b[0m\u001b[1;33m(\u001b[0m\u001b[0mmap\u001b[0m\u001b[1;33m(\u001b[0m\u001b[0msplit\u001b[0m\u001b[1;33m(\u001b[0m\u001b[1;34m' '\u001b[0m\u001b[1;33m)\u001b[0m\u001b[1;33m,\u001b[0m \u001b[0mrdata\u001b[0m\u001b[1;33m)\u001b[0m\u001b[1;33m)\u001b[0m\u001b[1;33m\u001b[0m\u001b[1;33m\u001b[0m\u001b[0m\n",
      "\u001b[1;31mAttributeError\u001b[0m: 'list' object has no attribute 'split'"
     ]
    }
   ],
   "source": [
    "rdata = rdata.split(\"\\n\")"
   ]
  },
  {
   "cell_type": "code",
   "execution_count": 80,
   "metadata": {},
   "outputs": [],
   "source": [
    "rdata_l = list(map(lambda x:list(filter(None,x.split(' '))), rdata))"
   ]
  },
  {
   "cell_type": "code",
   "execution_count": 118,
   "metadata": {},
   "outputs": [],
   "source": [
    "r=[]\n",
    "for i in range(len(rdata_l)-1):\n",
    "    r.append(np.array(list(map(int, rdata_l[i]))))\n",
    "r = np.array(r)"
   ]
  },
  {
   "cell_type": "code",
   "execution_count": 119,
   "metadata": {},
   "outputs": [],
   "source": [
    "p = np.zeros((9985,9985))\n",
    "for i in range(9985):\n",
    "    p[i][i] = sum(r[i])"
   ]
  },
  {
   "cell_type": "code",
   "execution_count": 141,
   "metadata": {},
   "outputs": [],
   "source": [
    "gamma_u = np.linalg.inv(np.sqrt(p))@r@r.transpose()@np.linalg.inv(np.sqrt(p))@r"
   ]
  },
  {
   "cell_type": "code",
   "execution_count": 143,
   "metadata": {},
   "outputs": [],
   "source": [
    "s_u = gamma_u[499][:100]"
   ]
  },
  {
   "cell_type": "code",
   "execution_count": 154,
   "metadata": {},
   "outputs": [],
   "source": [
    "u_rec = sorted(range(len(s_u)), key=lambda i: s_u[i])[-5:]"
   ]
  },
  {
   "cell_type": "code",
   "execution_count": 216,
   "metadata": {},
   "outputs": [
    {
     "name": "stdout",
     "output_type": "stream",
     "text": [
      "Show ID is 10, Show name is \"Two and a Half Men\", predited rating is 757.6011181024229 \n",
      "\n",
      "Show ID is 61, Show name is \"NBC 4 at Eleven\", predited rating is 784.7819589039741 \n",
      "\n",
      "Show ID is 46, Show name is \"2009 NCAA Basketball Tournament\", predited rating is 827.6012954743579 \n",
      "\n",
      "Show ID is 75, Show name is \"Family Guy\", predited rating is 861.17599928733 \n",
      "\n",
      "Show ID is 97, Show name is \"FOX 28 News at 10pm\", predited rating is 908.4800534761278 \n",
      "\n"
     ]
    }
   ],
   "source": [
    "for i in u_rec:\n",
    "    print(\"Show ID is %s, Show name is %s, predited rating is %s \\n\" % (i+1, name[i], s_u[i]))"
   ]
  },
  {
   "cell_type": "code",
   "execution_count": 170,
   "metadata": {},
   "outputs": [
    {
     "name": "stdout",
     "output_type": "stream",
     "text": [
      "0\n",
      "0\n",
      "1\n",
      "0\n",
      "1\n"
     ]
    }
   ],
   "source": [
    "for i in u_rec:\n",
    "    print(alex[i])"
   ]
  },
  {
   "cell_type": "code",
   "execution_count": 172,
   "metadata": {},
   "outputs": [],
   "source": [
    "q = np.zeros((563,563))\n",
    "for i in range(563):\n",
    "    q[i][i] = sum(r.transpose()[i])"
   ]
  },
  {
   "cell_type": "code",
   "execution_count": 176,
   "metadata": {},
   "outputs": [],
   "source": [
    "gamma_i = r@np.linalg.inv(np.sqrt(q))@r.transpose()@r@np.linalg.inv(np.sqrt(q))"
   ]
  },
  {
   "cell_type": "code",
   "execution_count": 177,
   "metadata": {},
   "outputs": [],
   "source": [
    "s_i = gamma_i[499][:100]"
   ]
  },
  {
   "cell_type": "code",
   "execution_count": 178,
   "metadata": {},
   "outputs": [],
   "source": [
    "i_rec = sorted(range(len(s_i)), key=lambda i: s_i[i])[-5:]"
   ]
  },
  {
   "cell_type": "code",
   "execution_count": 217,
   "metadata": {},
   "outputs": [
    {
     "name": "stdout",
     "output_type": "stream",
     "text": [
      "Show ID is 83, Show name is \"Access Hollywood\", predited rating is 28.971277674055553 \n",
      "\n",
      "Show ID is 46, Show name is \"2009 NCAA Basketball Tournament\", predited rating is 29.227001561500483 \n",
      "\n",
      "Show ID is 61, Show name is \"NBC 4 at Eleven\", predited rating is 29.396797773402554 \n",
      "\n",
      "Show ID is 75, Show name is \"Family Guy\", predited rating is 30.001141798877768 \n",
      "\n",
      "Show ID is 97, Show name is \"FOX 28 News at 10pm\", predited rating is 31.36470167834239 \n",
      "\n"
     ]
    }
   ],
   "source": [
    "for i in i_rec:\n",
    "    print(\"Show ID is %s, Show name is %s, predited rating is %s \\n\" % (i+1, name[i], s_i[i]))"
   ]
  },
  {
   "cell_type": "code",
   "execution_count": 180,
   "metadata": {},
   "outputs": [
    {
     "name": "stdout",
     "output_type": "stream",
     "text": [
      "0\n",
      "1\n",
      "0\n",
      "0\n",
      "1\n"
     ]
    }
   ],
   "source": [
    "for i in i_rec:\n",
    "    print(alex[i])"
   ]
  },
  {
   "cell_type": "code",
   "execution_count": 181,
   "metadata": {},
   "outputs": [],
   "source": [
    "u, s, vh = np.linalg.svd(r, full_matrices=True)"
   ]
  },
  {
   "cell_type": "code",
   "execution_count": 182,
   "metadata": {},
   "outputs": [
    {
     "data": {
      "text/plain": [
       "(9985, 9985)"
      ]
     },
     "execution_count": 182,
     "metadata": {},
     "output_type": "execute_result"
    }
   ],
   "source": [
    "u.shape"
   ]
  },
  {
   "cell_type": "code",
   "execution_count": 183,
   "metadata": {},
   "outputs": [
    {
     "data": {
      "text/plain": [
       "(563,)"
      ]
     },
     "execution_count": 183,
     "metadata": {},
     "output_type": "execute_result"
    }
   ],
   "source": [
    "s.shape"
   ]
  },
  {
   "cell_type": "code",
   "execution_count": 184,
   "metadata": {},
   "outputs": [
    {
     "data": {
      "text/plain": [
       "(563, 563)"
      ]
     },
     "execution_count": 184,
     "metadata": {},
     "output_type": "execute_result"
    }
   ],
   "source": [
    "vh.shape"
   ]
  },
  {
   "cell_type": "code",
   "execution_count": 189,
   "metadata": {},
   "outputs": [],
   "source": [
    "var_c = 0\n",
    "for i in range(320):\n",
    "    var_c += s[i]"
   ]
  },
  {
   "cell_type": "code",
   "execution_count": 190,
   "metadata": {},
   "outputs": [],
   "source": [
    "var = sum(s)"
   ]
  },
  {
   "cell_type": "code",
   "execution_count": 204,
   "metadata": {},
   "outputs": [
    {
     "data": {
      "text/plain": [
       "11563.936712422541"
      ]
     },
     "execution_count": 204,
     "metadata": {},
     "output_type": "execute_result"
    }
   ],
   "source": [
    "var_c"
   ]
  },
  {
   "cell_type": "code",
   "execution_count": 191,
   "metadata": {},
   "outputs": [
    {
     "data": {
      "text/plain": [
       "0.7320264894976807"
      ]
     },
     "execution_count": 191,
     "metadata": {},
     "output_type": "execute_result"
    }
   ],
   "source": [
    "var_c/var"
   ]
  },
  {
   "cell_type": "code",
   "execution_count": 220,
   "metadata": {},
   "outputs": [],
   "source": [
    "s_s = np.zeros((9985,320))\n",
    "for i in range(320):\n",
    "    s_s[i][i] = s[i]"
   ]
  },
  {
   "cell_type": "code",
   "execution_count": 221,
   "metadata": {},
   "outputs": [],
   "source": [
    "vh_q = vh[:320,:320]"
   ]
  },
  {
   "cell_type": "code",
   "execution_count": 222,
   "metadata": {},
   "outputs": [],
   "source": [
    "red_r = u@s_s@vh_q"
   ]
  },
  {
   "cell_type": "code",
   "execution_count": 223,
   "metadata": {},
   "outputs": [],
   "source": [
    "s_svd = red_r[499][:100]"
   ]
  },
  {
   "cell_type": "code",
   "execution_count": 224,
   "metadata": {},
   "outputs": [],
   "source": [
    "svd_rec = sorted(range(len(s_svd)), key=lambda i: s_svd[i])[-5:]"
   ]
  },
  {
   "cell_type": "code",
   "execution_count": 225,
   "metadata": {},
   "outputs": [
    {
     "name": "stdout",
     "output_type": "stream",
     "text": [
      "Show ID is 71, Show name is \"Franklin\", predited rating is 0.2149012194570189 \n",
      "\n",
      "Show ID is 67, Show name is \"Lazy Town\", predited rating is 0.25327051200478923 \n",
      "\n",
      "Show ID is 70, Show name is \"Blue's Clues\", predited rating is 0.28614820627633797 \n",
      "\n",
      "Show ID is 49, Show name is \"Max and Ruby\", predited rating is 0.37749942914811974 \n",
      "\n",
      "Show ID is 64, Show name is \"Wow Wow Wubbzy\", predited rating is 0.3795032191270519 \n",
      "\n"
     ]
    }
   ],
   "source": [
    "for i in svd_rec:\n",
    "    print(\"Show ID is %s, Show name is %s, predited rating is %s \\n\" % (i+1, name[i], s_svd[i]))"
   ]
  },
  {
   "cell_type": "code",
   "execution_count": 226,
   "metadata": {},
   "outputs": [
    {
     "name": "stdout",
     "output_type": "stream",
     "text": [
      "1\n",
      "1\n",
      "1\n",
      "1\n",
      "1\n"
     ]
    }
   ],
   "source": [
    "for i in svd_rec:\n",
    "    print(alex[i])"
   ]
  }
 ],
 "metadata": {
  "kernelspec": {
   "display_name": "Python 3",
   "language": "python",
   "name": "python3"
  },
  "language_info": {
   "codemirror_mode": {
    "name": "ipython",
    "version": 3
   },
   "file_extension": ".py",
   "mimetype": "text/x-python",
   "name": "python",
   "nbconvert_exporter": "python",
   "pygments_lexer": "ipython3",
   "version": "3.7.2"
  }
 },
 "nbformat": 4,
 "nbformat_minor": 2
}
